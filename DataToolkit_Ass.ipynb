{
 "cells": [
  {
   "cell_type": "code",
   "execution_count": null,
   "id": "67cf9d9a-ee07-4cd0-8857-0539e808ee80",
   "metadata": {},
   "outputs": [],
   "source": [
    "#1. Demonstrate three different methods for creating identical 2D arrays in NumPy Provide the code for each\n",
    "#method and the final output after each method.\n",
    "\n",
    "Method 1: Using numpy.array"
   ]
  },
  {
   "cell_type": "code",
   "execution_count": 60,
   "id": "410eee22-d6e9-4dce-9571-df2269b121c5",
   "metadata": {},
   "outputs": [
    {
     "data": {
      "text/plain": [
       "array([[1, 2, 3],\n",
       "       [4, 5, 6]])"
      ]
     },
     "execution_count": 60,
     "metadata": {},
     "output_type": "execute_result"
    }
   ],
   "source": [
    "import numpy as np\n",
    "\n",
    "# Create a 2D array using np.array\n",
    "array1 = np.array([[1, 2, 3], [4, 5, 6]])\n",
    "array1\n"
   ]
  },
  {
   "cell_type": "code",
   "execution_count": null,
   "id": "7e1625f4-25ff-407a-b614-89ad283394fd",
   "metadata": {},
   "outputs": [],
   "source": [
    "Method 2: Using numpy.ones and numpy.full"
   ]
  },
  {
   "cell_type": "code",
   "execution_count": 62,
   "id": "13fb7652-089e-4784-a358-b52cf6fe9b8d",
   "metadata": {},
   "outputs": [
    {
     "data": {
      "text/plain": [
       "array([[1, 1, 1],\n",
       "       [1, 1, 1]])"
      ]
     },
     "execution_count": 62,
     "metadata": {},
     "output_type": "execute_result"
    }
   ],
   "source": [
    "import numpy as np\n",
    "\n",
    "\n",
    "# Create a 2D array using np.ones and then multiplying\n",
    "array2 = np.ones((2, 3), dtype=int) * 1\n",
    "\n",
    "array2\n",
    "\n",
    "\n",
    "# Create a 2D array using np.full\n",
    "array3 = np.full((2, 3), 1)\n",
    "array3\n"
   ]
  },
  {
   "cell_type": "code",
   "execution_count": null,
   "id": "391fd1c6-b290-4205-b536-194eaf95751b",
   "metadata": {},
   "outputs": [],
   "source": [
    "Method 3: Using numpy.zeros and numpy.add"
   ]
  },
  {
   "cell_type": "code",
   "execution_count": 64,
   "id": "37616183-7554-4162-8dcf-af70105abc3c",
   "metadata": {},
   "outputs": [
    {
     "data": {
      "text/plain": [
       "array([[0., 0., 0.],\n",
       "       [0., 0., 0.]])"
      ]
     },
     "execution_count": 65,
     "metadata": {},
     "output_type": "execute_result"
    }
   ],
   "source": [
    "import numpy as np\n",
    "\n",
    "# Create a 2D array using np.zeros and then adding\n",
    "array4 = np.zeros(2, 3))\n",
    "array4\n"
   ]
  },
  {
   "cell_type": "code",
   "execution_count": null,
   "id": "09e3ef4b-5e78-4a5b-9045-edc5b0e1141b",
   "metadata": {},
   "outputs": [],
   "source": []
  },
  {
   "cell_type": "code",
   "execution_count": 7,
   "id": "2dcbd8c4-b677-4ee7-8192-01cbc1ee8d42",
   "metadata": {},
   "outputs": [],
   "source": [
    "#2. Using the Numpy function, generate an array of wRR evenly spaced numPers Petween w and wR and\n",
    "#Reshape that 1D array into a 2D array\n",
    "\n",
    "import numpy as np\n",
    "a= np.linspace (1, 10, 100)"
   ]
  },
  {
   "cell_type": "code",
   "execution_count": 8,
   "id": "95ef891c-d698-4e55-a6ff-fe20fa25aa8f",
   "metadata": {},
   "outputs": [
    {
     "data": {
      "text/plain": [
       "array([ 1.        ,  1.09090909,  1.18181818,  1.27272727,  1.36363636,\n",
       "        1.45454545,  1.54545455,  1.63636364,  1.72727273,  1.81818182,\n",
       "        1.90909091,  2.        ,  2.09090909,  2.18181818,  2.27272727,\n",
       "        2.36363636,  2.45454545,  2.54545455,  2.63636364,  2.72727273,\n",
       "        2.81818182,  2.90909091,  3.        ,  3.09090909,  3.18181818,\n",
       "        3.27272727,  3.36363636,  3.45454545,  3.54545455,  3.63636364,\n",
       "        3.72727273,  3.81818182,  3.90909091,  4.        ,  4.09090909,\n",
       "        4.18181818,  4.27272727,  4.36363636,  4.45454545,  4.54545455,\n",
       "        4.63636364,  4.72727273,  4.81818182,  4.90909091,  5.        ,\n",
       "        5.09090909,  5.18181818,  5.27272727,  5.36363636,  5.45454545,\n",
       "        5.54545455,  5.63636364,  5.72727273,  5.81818182,  5.90909091,\n",
       "        6.        ,  6.09090909,  6.18181818,  6.27272727,  6.36363636,\n",
       "        6.45454545,  6.54545455,  6.63636364,  6.72727273,  6.81818182,\n",
       "        6.90909091,  7.        ,  7.09090909,  7.18181818,  7.27272727,\n",
       "        7.36363636,  7.45454545,  7.54545455,  7.63636364,  7.72727273,\n",
       "        7.81818182,  7.90909091,  8.        ,  8.09090909,  8.18181818,\n",
       "        8.27272727,  8.36363636,  8.45454545,  8.54545455,  8.63636364,\n",
       "        8.72727273,  8.81818182,  8.90909091,  9.        ,  9.09090909,\n",
       "        9.18181818,  9.27272727,  9.36363636,  9.45454545,  9.54545455,\n",
       "        9.63636364,  9.72727273,  9.81818182,  9.90909091, 10.        ])"
      ]
     },
     "execution_count": 8,
     "metadata": {},
     "output_type": "execute_result"
    }
   ],
   "source": [
    "a"
   ]
  },
  {
   "cell_type": "code",
   "execution_count": 10,
   "id": "d405b7ed-4e69-4a0f-9424-6cba20dfb8d1",
   "metadata": {},
   "outputs": [
    {
     "data": {
      "text/plain": [
       "array([[ 1.        ,  1.09090909,  1.18181818,  1.27272727,  1.36363636,\n",
       "         1.45454545,  1.54545455,  1.63636364,  1.72727273,  1.81818182],\n",
       "       [ 1.90909091,  2.        ,  2.09090909,  2.18181818,  2.27272727,\n",
       "         2.36363636,  2.45454545,  2.54545455,  2.63636364,  2.72727273],\n",
       "       [ 2.81818182,  2.90909091,  3.        ,  3.09090909,  3.18181818,\n",
       "         3.27272727,  3.36363636,  3.45454545,  3.54545455,  3.63636364],\n",
       "       [ 3.72727273,  3.81818182,  3.90909091,  4.        ,  4.09090909,\n",
       "         4.18181818,  4.27272727,  4.36363636,  4.45454545,  4.54545455],\n",
       "       [ 4.63636364,  4.72727273,  4.81818182,  4.90909091,  5.        ,\n",
       "         5.09090909,  5.18181818,  5.27272727,  5.36363636,  5.45454545],\n",
       "       [ 5.54545455,  5.63636364,  5.72727273,  5.81818182,  5.90909091,\n",
       "         6.        ,  6.09090909,  6.18181818,  6.27272727,  6.36363636],\n",
       "       [ 6.45454545,  6.54545455,  6.63636364,  6.72727273,  6.81818182,\n",
       "         6.90909091,  7.        ,  7.09090909,  7.18181818,  7.27272727],\n",
       "       [ 7.36363636,  7.45454545,  7.54545455,  7.63636364,  7.72727273,\n",
       "         7.81818182,  7.90909091,  8.        ,  8.09090909,  8.18181818],\n",
       "       [ 8.27272727,  8.36363636,  8.45454545,  8.54545455,  8.63636364,\n",
       "         8.72727273,  8.81818182,  8.90909091,  9.        ,  9.09090909],\n",
       "       [ 9.18181818,  9.27272727,  9.36363636,  9.45454545,  9.54545455,\n",
       "         9.63636364,  9.72727273,  9.81818182,  9.90909091, 10.        ]])"
      ]
     },
     "execution_count": 10,
     "metadata": {},
     "output_type": "execute_result"
    }
   ],
   "source": [
    "a.reshape(10,10)"
   ]
  },
  {
   "cell_type": "code",
   "execution_count": null,
   "id": "17a1f2dd-d5e6-413c-bd97-e2b9f58ed55a",
   "metadata": {},
   "outputs": [],
   "source": []
  },
  {
   "cell_type": "code",
   "execution_count": null,
   "id": "b14721ad-77b5-4b4e-926f-74584499f1fe",
   "metadata": {},
   "outputs": [],
   "source": [
    "#3. Explain the following termsg\n",
    "#1. The difference in np.array, np.asarray and np.asanyarray\n",
    "#2. The difference between Deep copy and shallow copy\n",
    "\n",
    "\n",
    "\n",
    "np.array: Always creates a new array and can make a copy of the data.\n",
    " This function creates an array from any object exposing the array interface, such as lists, tuples, or other arrays. It always makes a copy of the data by default, unless specified otherwise."
   ]
  },
  {
   "cell_type": "code",
   "execution_count": 12,
   "id": "1360467a-4134-4d2f-b452-99f684af8586",
   "metadata": {},
   "outputs": [
    {
     "name": "stdout",
     "output_type": "stream",
     "text": [
      "[1 2 3 4]\n"
     ]
    }
   ],
   "source": [
    "#np.array ex:\n",
    "import numpy as np\n",
    "\n",
    "# Create a list\n",
    "list_data = [1, 2, 3, 4]\n",
    "\n",
    "array_data = np.array(list_data)\n",
    "print(array_data)\n"
   ]
  },
  {
   "cell_type": "code",
   "execution_count": null,
   "id": "468bd7bc-ee74-4a0c-b1d2-72c33459dfb4",
   "metadata": {},
   "outputs": [],
   "source": [
    "np.asarray: This function converts the input to an array, but does not make a copy if the input is already an array (or array-like) with the same data type."
   ]
  },
  {
   "cell_type": "code",
   "execution_count": 14,
   "id": "49be9a72-9049-47cf-bfb5-c6169a6b28b2",
   "metadata": {},
   "outputs": [
    {
     "name": "stdout",
     "output_type": "stream",
     "text": [
      "np.asarray from list:\n",
      " [1 2 3 4]\n",
      "np.asarray from array (no copy):\n",
      " [1 2 3 4]\n"
     ]
    }
   ],
   "source": [
    "#Ex of np.asarray\n",
    "\n",
    "import numpy as np\n",
    "\n",
    "# Create a list\n",
    "list_data = [1, 2, 3, 4]\n",
    "\n",
    "# Convert list to array using np.asarray\n",
    "array_data = np.asarray(list_data)\n",
    "print(\"np.asarray from list:\\n\", array_data)\n",
    "\n",
    "# Convert array to array using np.asarray (no copy)\n",
    "array_data_copy = np.asarray(array_data)\n",
    "print(\"np.asarray from array (no copy):\\n\", array_data_copy)\n"
   ]
  },
  {
   "cell_type": "code",
   "execution_count": null,
   "id": "a816b899-4e7a-4c6e-92f2-a67337df7232",
   "metadata": {},
   "outputs": [],
   "source": [
    "3. np.asanyarray: This function is similar to np.asarray, but it passes through subclasses of ndarray. \n",
    "This is useful when you have custom array-like objects that you don't want to convert to a base ndarray object."
   ]
  },
  {
   "cell_type": "code",
   "execution_count": 15,
   "id": "e2947547-211a-4084-93d0-325b2eeaf659",
   "metadata": {},
   "outputs": [
    {
     "name": "stdout",
     "output_type": "stream",
     "text": [
      "np.asanyarray from list:\n",
      " [1 2 3 4]\n",
      "np.asanyarray from array (no copy):\n",
      " [1 2 3 4]\n",
      "Matrix data:\n",
      " [[1 2 3 4]]\n",
      "np.asanyarray from matrix (preserves subclass):\n",
      " [[1 2 3 4]]\n"
     ]
    }
   ],
   "source": [
    "#example: np.asanyarray\n",
    "\n",
    "import numpy as np\n",
    "\n",
    "# Create a list\n",
    "list_data = [1, 2, 3, 4]\n",
    "\n",
    "# Convert list to array using np.asanyarray\n",
    "array_data = np.asanyarray(list_data)\n",
    "print(\"np.asanyarray from list:\\n\", array_data)\n",
    "\n",
    "# Convert array to array using np.asanyarray (no copy)\n",
    "array_data_copy = np.asanyarray(array_data)\n",
    "print(\"np.asanyarray from array (no copy):\\n\", array_data_copy)\n",
    "\n",
    "# Create a matrix (a subclass of ndarray)\n",
    "matrix_data = np.matrix(list_data)\n",
    "print(\"Matrix data:\\n\", matrix_data)\n",
    "\n",
    "# Convert matrix to array using np.asanyarray (preserves subclass)\n",
    "matrix_data_copy = np.asanyarray(matrix_data)\n",
    "print(\"np.asanyarray from matrix (preserves subclass):\\n\", matrix_data_copy)\n"
   ]
  },
  {
   "cell_type": "code",
   "execution_count": null,
   "id": "3287a41c-de70-4d45-a240-57ca9b7febbc",
   "metadata": {},
   "outputs": [],
   "source": [
    " Shallow copy: In this array if we will make the changes in base array then , reference arrayv will also be get updated. This is called Shallow cop."
   ]
  },
  {
   "cell_type": "code",
   "execution_count": 19,
   "id": "d0897529-0ced-4fa4-9195-20f6fc573919",
   "metadata": {},
   "outputs": [
    {
     "data": {
      "text/plain": [
       "['ram', 'shyam', 'mohan', 'radha']"
      ]
     },
     "execution_count": 19,
     "metadata": {},
     "output_type": "execute_result"
    }
   ],
   "source": [
    "#ex. of Shallow Copy:\n",
    "\n",
    "l = [ 'ram', 'shyam', 'mohan', 'radha']\n",
    "a = l\n",
    "a\n",
    "l"
   ]
  },
  {
   "cell_type": "code",
   "execution_count": 20,
   "id": "72764a24-fc56-408a-ba25-7bd245a0f379",
   "metadata": {},
   "outputs": [
    {
     "data": {
      "text/plain": [
       "['Ramesh', 'shyam', 'mohan', 'radha']"
      ]
     },
     "execution_count": 20,
     "metadata": {},
     "output_type": "execute_result"
    }
   ],
   "source": [
    "l[0] = 'Ramesh'\n",
    "l"
   ]
  },
  {
   "cell_type": "code",
   "execution_count": 21,
   "id": "7d5903a7-87fd-4115-8c0f-aee8e718b3b1",
   "metadata": {},
   "outputs": [
    {
     "data": {
      "text/plain": [
       "['Ramesh', 'shyam', 'mohan', 'radha']"
      ]
     },
     "execution_count": 21,
     "metadata": {},
     "output_type": "execute_result"
    }
   ],
   "source": [
    "a"
   ]
  },
  {
   "cell_type": "code",
   "execution_count": null,
   "id": "6edb1f96-5226-4f17-b2dc-720b38636bc5",
   "metadata": {},
   "outputs": [],
   "source": []
  },
  {
   "cell_type": "code",
   "execution_count": null,
   "id": "5511ca03-b4c7-4ebb-a170-5c8099115742",
   "metadata": {},
   "outputs": [],
   "source": [
    "Deep Copy: In this arrasy, if we make changes in the base array then thatv doesn't impact other newly created array. \n"
   ]
  },
  {
   "cell_type": "code",
   "execution_count": 24,
   "id": "13dba385-2d52-479b-bc70-5726804127f2",
   "metadata": {},
   "outputs": [
    {
     "data": {
      "text/plain": [
       "['ram', 'Govind', 'mohan', 'radha']"
      ]
     },
     "execution_count": 24,
     "metadata": {},
     "output_type": "execute_result"
    }
   ],
   "source": [
    "#example of deep copy?:\n",
    "l = [ 'ram', 'shyam', 'mohan', 'radha']\n",
    "a = l.copy()\n",
    "l[1] = 'Govind'\n",
    "l"
   ]
  },
  {
   "cell_type": "code",
   "execution_count": 25,
   "id": "50b25457-11a8-4eae-8262-54a739204451",
   "metadata": {},
   "outputs": [
    {
     "data": {
      "text/plain": [
       "['ram', 'shyam', 'mohan', 'radha']"
      ]
     },
     "execution_count": 25,
     "metadata": {},
     "output_type": "execute_result"
    }
   ],
   "source": [
    "a"
   ]
  },
  {
   "cell_type": "code",
   "execution_count": null,
   "id": "af1c9dff-bb05-451a-bd25-1a9f4502d338",
   "metadata": {},
   "outputs": [],
   "source": []
  },
  {
   "cell_type": "code",
   "execution_count": null,
   "id": "219e51f7-ff5b-4ebd-8f8f-6df049c06736",
   "metadata": {},
   "outputs": [],
   "source": [
    "4. Generate a 3x3 array with random floating-point numbers between 5 and 20, then, round each number in\n",
    "the array to 2 decimal places."
   ]
  },
  {
   "cell_type": "code",
   "execution_count": 28,
   "id": "112e1a7c-dab2-484e-8db8-1720c79ae15c",
   "metadata": {},
   "outputs": [],
   "source": [
    "import numpy as np\n",
    "\n",
    "arr = np.random.uniform(5, 20, (3,3))"
   ]
  },
  {
   "cell_type": "code",
   "execution_count": 29,
   "id": "738c90c2-2e26-4af1-b5d0-29227d9effd7",
   "metadata": {},
   "outputs": [
    {
     "data": {
      "text/plain": [
       "array([[18.24360109, 12.63803801,  5.10119791],\n",
       "       [ 9.66391644,  8.19039771, 10.36940267],\n",
       "       [11.76156027, 12.98561028,  5.4482742 ]])"
      ]
     },
     "execution_count": 29,
     "metadata": {},
     "output_type": "execute_result"
    }
   ],
   "source": [
    "arr"
   ]
  },
  {
   "cell_type": "code",
   "execution_count": 32,
   "id": "abff7cff-a5be-4b54-b8f8-459cf1a991bd",
   "metadata": {},
   "outputs": [],
   "source": [
    "rounded_arr = np.round(arr, 2)"
   ]
  },
  {
   "cell_type": "code",
   "execution_count": 34,
   "id": "6f1f10b6-610f-4d48-81fd-108bafa9d5c4",
   "metadata": {},
   "outputs": [
    {
     "data": {
      "text/plain": [
       "array([[18.24, 12.64,  5.1 ],\n",
       "       [ 9.66,  8.19, 10.37],\n",
       "       [11.76, 12.99,  5.45]])"
      ]
     },
     "execution_count": 34,
     "metadata": {},
     "output_type": "execute_result"
    }
   ],
   "source": [
    "rounded_arr"
   ]
  },
  {
   "cell_type": "code",
   "execution_count": null,
   "id": "38d9f3c9-90ed-4701-928d-568bdaa3f36e",
   "metadata": {},
   "outputs": [],
   "source": []
  },
  {
   "cell_type": "code",
   "execution_count": null,
   "id": "5cbfa8fe-0fe6-4f8e-80d6-ded292d2e099",
   "metadata": {},
   "outputs": [],
   "source": [
    "5. Create a NumPy array with random inmtegers between  1 and 10 of shape(5, 6). After creating the array perform.\n",
    "perform the following operations:\n",
    "\n",
    " a)Extract all even integers from array.\n",
    "\n",
    " b)Extract all odd integers from array"
   ]
  },
  {
   "cell_type": "code",
   "execution_count": 50,
   "id": "06e92a09-5c93-49d1-82b8-72b7d83b6ec3",
   "metadata": {},
   "outputs": [
    {
     "data": {
      "text/plain": [
       "array([[ 6,  8, 10,  1,  6,  1],\n",
       "       [ 5, 10, 10,  3,  5,  7],\n",
       "       [ 8,  1,  5,  5,  8,  8],\n",
       "       [ 4,  9,  1,  9,  8, 10],\n",
       "       [ 4, 10,  8,  6, 10, 10]])"
      ]
     },
     "execution_count": 50,
     "metadata": {},
     "output_type": "execute_result"
    }
   ],
   "source": [
    "import numpy as np\n",
    "\n",
    "Random_arr = np.random.randint(1, 11, size=(5, 6))\n",
    "Random_arr"
   ]
  },
  {
   "cell_type": "code",
   "execution_count": 51,
   "id": "c08a69fc-8ca5-43a3-8017-b88f400591cb",
   "metadata": {},
   "outputs": [
    {
     "data": {
      "text/plain": [
       "array([ 6,  8, 10,  6, 10, 10,  8,  8,  8,  4,  8, 10,  4, 10,  8,  6, 10,\n",
       "       10])"
      ]
     },
     "execution_count": 51,
     "metadata": {},
     "output_type": "execute_result"
    }
   ],
   "source": [
    "#a)Extract all even integers from array.\n",
    "\n",
    "even_int = Random_arr[ Random_arr%2==0]\n",
    "even_int"
   ]
  },
  {
   "cell_type": "code",
   "execution_count": 52,
   "id": "2a409bc0-43e6-48c6-ab91-d7ba9e7e1d76",
   "metadata": {},
   "outputs": [
    {
     "data": {
      "text/plain": [
       "array([1, 1, 5, 3, 5, 7, 1, 5, 5, 9, 1, 9])"
      ]
     },
     "execution_count": 52,
     "metadata": {},
     "output_type": "execute_result"
    }
   ],
   "source": [
    "#b)Extract all odd integers from array.\n",
    "\n",
    "odd_int = Random_arr[ Random_arr%2!=0]\n",
    "odd_int"
   ]
  },
  {
   "cell_type": "code",
   "execution_count": null,
   "id": "3281df19-0ed1-4fe3-a5d1-318562f4b2f0",
   "metadata": {},
   "outputs": [],
   "source": []
  },
  {
   "cell_type": "code",
   "execution_count": null,
   "id": "17566ec3-e487-433b-90d1-cbee9d43c649",
   "metadata": {},
   "outputs": [],
   "source": [
    "6. Create a 3D Numpy array of shape( 3, 3, 3) containing random integers  between 1 and 10 and   Perform \n",
    "a) find the indices of the maximum values along each depth level( third axis)\n",
    "b) Perform element- wise multiplication of between both array."
   ]
  },
  {
   "cell_type": "code",
   "execution_count": 55,
   "id": "935cf1d2-501a-46a3-acea-d1b98e647e07",
   "metadata": {},
   "outputs": [
    {
     "data": {
      "text/plain": [
       "array([[[ 6,  9,  6],\n",
       "        [ 1, 10,  1],\n",
       "        [ 1,  7,  9]],\n",
       "\n",
       "       [[ 5,  8,  4],\n",
       "        [ 1,  2,  7],\n",
       "        [10, 10,  2]],\n",
       "\n",
       "       [[ 1,  5,  3],\n",
       "        [ 1,  3,  4],\n",
       "        [ 4,  7,  9]]])"
      ]
     },
     "execution_count": 55,
     "metadata": {},
     "output_type": "execute_result"
    }
   ],
   "source": [
    "#Create a 3D Numpy array of shape( 3, 3, 3) containing random integers  between 1 and 10\n",
    "\n",
    "import numpy as np\n",
    "\n",
    "arr = np.random.randint(1, 11, (3, 3, 3))\n",
    "\n",
    "arr"
   ]
  },
  {
   "cell_type": "code",
   "execution_count": 57,
   "id": "92ec3b36-14cc-4d2d-8900-61aa75d5f957",
   "metadata": {},
   "outputs": [
    {
     "data": {
      "text/plain": [
       "array([[1, 1, 2],\n",
       "       [1, 2, 0],\n",
       "       [1, 2, 2]])"
      ]
     },
     "execution_count": 57,
     "metadata": {},
     "output_type": "execute_result"
    }
   ],
   "source": [
    "#a) find the indices of the maximum values along each depth level( third axis)\n",
    "\n",
    "max_indices = np.argmax(arr, axis=2)\n",
    "max_indices"
   ]
  },
  {
   "cell_type": "code",
   "execution_count": 59,
   "id": "2cf7997e-6369-40e8-9375-3aec2fedd043",
   "metadata": {},
   "outputs": [
    {
     "data": {
      "text/plain": [
       "array([[[18, 20, 36],\n",
       "        [32, 54,  2],\n",
       "        [24, 21, 14]],\n",
       "\n",
       "       [[30,  9, 12],\n",
       "        [90, 49, 40],\n",
       "        [ 4, 14, 45]],\n",
       "\n",
       "       [[42, 40, 10],\n",
       "        [63, 14, 20],\n",
       "        [21, 30, 20]]])"
      ]
     },
     "execution_count": 59,
     "metadata": {},
     "output_type": "execute_result"
    }
   ],
   "source": [
    "#b) Perform element- wise multiplication of between both array.\n",
    "\n",
    "import numpy as np\n",
    "\n",
    "arr1 = np.random.randint(1, 11, (3, 3, 3))\n",
    "\n",
    "\n",
    "arr2 = np.random.randint(1, 11, (3, 3, 3))\n",
    "\n",
    "result= arr1*arr2\n",
    "result"
   ]
  },
  {
   "cell_type": "code",
   "execution_count": null,
   "id": "e49d7ff7-0a6e-4ecf-868e-f9651bef39db",
   "metadata": {},
   "outputs": [],
   "source": []
  },
  {
   "cell_type": "code",
   "execution_count": null,
   "id": "f818969a-e180-4452-b4ba-7874b237c7f7",
   "metadata": {},
   "outputs": [],
   "source": [
    "7. Clean and transform the 'Phone' column in the sample dataset to remove non-numeric characters and\n",
    "convert it to a numeric data type\n",
    "Also display the table attribut and data types of each column.\n"
   ]
  },
  {
   "cell_type": "code",
   "execution_count": 68,
   "id": "4d3417f4-4dbb-46e8-ba7d-025861d42d91",
   "metadata": {},
   "outputs": [
    {
     "data": {
      "text/html": [
       "<div>\n",
       "<style scoped>\n",
       "    .dataframe tbody tr th:only-of-type {\n",
       "        vertical-align: middle;\n",
       "    }\n",
       "\n",
       "    .dataframe tbody tr th {\n",
       "        vertical-align: top;\n",
       "    }\n",
       "\n",
       "    .dataframe thead th {\n",
       "        text-align: right;\n",
       "    }\n",
       "</style>\n",
       "<table border=\"1\" class=\"dataframe\">\n",
       "  <thead>\n",
       "    <tr style=\"text-align: right;\">\n",
       "      <th></th>\n",
       "      <th>Index</th>\n",
       "      <th>User Id</th>\n",
       "      <th>First Name</th>\n",
       "      <th>Last Name</th>\n",
       "      <th>Gender</th>\n",
       "      <th>Email</th>\n",
       "      <th>Phone</th>\n",
       "      <th>Date of birth</th>\n",
       "      <th>Job Title</th>\n",
       "      <th>Salary</th>\n",
       "    </tr>\n",
       "  </thead>\n",
       "  <tbody>\n",
       "    <tr>\n",
       "      <th>0</th>\n",
       "      <td>1</td>\n",
       "      <td>8717bbf45cCDbEe</td>\n",
       "      <td>Shelia</td>\n",
       "      <td>Mahoney</td>\n",
       "      <td>Male</td>\n",
       "      <td>pwarner@example.org</td>\n",
       "      <td>857.139.8239</td>\n",
       "      <td>27-01-2014</td>\n",
       "      <td>Probation officer</td>\n",
       "      <td>90000</td>\n",
       "    </tr>\n",
       "    <tr>\n",
       "      <th>1</th>\n",
       "      <td>2</td>\n",
       "      <td>3d5AD30A4cD38ed</td>\n",
       "      <td>Jo</td>\n",
       "      <td>Rivers</td>\n",
       "      <td>Female</td>\n",
       "      <td>fergusonkatherine@example.net</td>\n",
       "      <td>NaN</td>\n",
       "      <td>26-07-1931</td>\n",
       "      <td>Dancer</td>\n",
       "      <td>80000</td>\n",
       "    </tr>\n",
       "    <tr>\n",
       "      <th>2</th>\n",
       "      <td>3</td>\n",
       "      <td>810Ce0F276Badec</td>\n",
       "      <td>Sheryl</td>\n",
       "      <td>Lowery</td>\n",
       "      <td>Female</td>\n",
       "      <td>fhoward@example.org</td>\n",
       "      <td>(599)782-0605</td>\n",
       "      <td>25-11-2013</td>\n",
       "      <td>Copy</td>\n",
       "      <td>50000</td>\n",
       "    </tr>\n",
       "    <tr>\n",
       "      <th>3</th>\n",
       "      <td>4</td>\n",
       "      <td>BF2a889C00f0cE1</td>\n",
       "      <td>Whitney</td>\n",
       "      <td>Hooper</td>\n",
       "      <td>Male</td>\n",
       "      <td>zjohnston@example.com</td>\n",
       "      <td>NaN</td>\n",
       "      <td>17-11-2012</td>\n",
       "      <td>Counselling psychologist</td>\n",
       "      <td>65000</td>\n",
       "    </tr>\n",
       "    <tr>\n",
       "      <th>4</th>\n",
       "      <td>5</td>\n",
       "      <td>9afFEafAe1CBBB9</td>\n",
       "      <td>Lindsey</td>\n",
       "      <td>Rice</td>\n",
       "      <td>Female</td>\n",
       "      <td>elin@example.net</td>\n",
       "      <td>(390)417-1635x3010</td>\n",
       "      <td>15-04-1923</td>\n",
       "      <td>Biomedical engineer</td>\n",
       "      <td>100000</td>\n",
       "    </tr>\n",
       "    <tr>\n",
       "      <th>...</th>\n",
       "      <td>...</td>\n",
       "      <td>...</td>\n",
       "      <td>...</td>\n",
       "      <td>...</td>\n",
       "      <td>...</td>\n",
       "      <td>...</td>\n",
       "      <td>...</td>\n",
       "      <td>...</td>\n",
       "      <td>...</td>\n",
       "      <td>...</td>\n",
       "    </tr>\n",
       "    <tr>\n",
       "      <th>995</th>\n",
       "      <td>996</td>\n",
       "      <td>fedF4c7Fd9e7cFa</td>\n",
       "      <td>Kurt</td>\n",
       "      <td>Bryant</td>\n",
       "      <td>Female</td>\n",
       "      <td>lyonsdaisy@example.net</td>\n",
       "      <td>021.775.2933</td>\n",
       "      <td>05-01-1959</td>\n",
       "      <td>Personnel officer</td>\n",
       "      <td>90000</td>\n",
       "    </tr>\n",
       "    <tr>\n",
       "      <th>996</th>\n",
       "      <td>997</td>\n",
       "      <td>ECddaFEDdEc4FAB</td>\n",
       "      <td>Donna</td>\n",
       "      <td>Barry</td>\n",
       "      <td>Female</td>\n",
       "      <td>dariusbryan@example.com</td>\n",
       "      <td>001-149-710-7799x721</td>\n",
       "      <td>06-10-2001</td>\n",
       "      <td>Education administrator</td>\n",
       "      <td>50000</td>\n",
       "    </tr>\n",
       "    <tr>\n",
       "      <th>997</th>\n",
       "      <td>998</td>\n",
       "      <td>2adde51d8B8979E</td>\n",
       "      <td>Cathy</td>\n",
       "      <td>Mckinney</td>\n",
       "      <td>Female</td>\n",
       "      <td>georgechan@example.org</td>\n",
       "      <td>+1-750-774-4128x33265</td>\n",
       "      <td>13-05-1918</td>\n",
       "      <td>Commercial/residential surveyor</td>\n",
       "      <td>60000</td>\n",
       "    </tr>\n",
       "    <tr>\n",
       "      <th>998</th>\n",
       "      <td>999</td>\n",
       "      <td>Fb2FE369D1E171A</td>\n",
       "      <td>Jermaine</td>\n",
       "      <td>Phelps</td>\n",
       "      <td>Male</td>\n",
       "      <td>wanda04@example.net</td>\n",
       "      <td>(915)292-2254</td>\n",
       "      <td>31-08-1971</td>\n",
       "      <td>Ambulance person</td>\n",
       "      <td>100000</td>\n",
       "    </tr>\n",
       "    <tr>\n",
       "      <th>999</th>\n",
       "      <td>1000</td>\n",
       "      <td>8b756f6231DDC6e</td>\n",
       "      <td>Lee</td>\n",
       "      <td>Tran</td>\n",
       "      <td>Female</td>\n",
       "      <td>deannablack@example.org</td>\n",
       "      <td>079.752.5424x67259</td>\n",
       "      <td>24-01-1947</td>\n",
       "      <td>Nurse, learning disability</td>\n",
       "      <td>90000</td>\n",
       "    </tr>\n",
       "  </tbody>\n",
       "</table>\n",
       "<p>1000 rows × 10 columns</p>\n",
       "</div>"
      ],
      "text/plain": [
       "     Index          User Id First Name Last Name  Gender  \\\n",
       "0        1  8717bbf45cCDbEe     Shelia   Mahoney    Male   \n",
       "1        2  3d5AD30A4cD38ed         Jo    Rivers  Female   \n",
       "2        3  810Ce0F276Badec     Sheryl    Lowery  Female   \n",
       "3        4  BF2a889C00f0cE1    Whitney    Hooper    Male   \n",
       "4        5  9afFEafAe1CBBB9    Lindsey      Rice  Female   \n",
       "..     ...              ...        ...       ...     ...   \n",
       "995    996  fedF4c7Fd9e7cFa       Kurt    Bryant  Female   \n",
       "996    997  ECddaFEDdEc4FAB      Donna     Barry  Female   \n",
       "997    998  2adde51d8B8979E      Cathy  Mckinney  Female   \n",
       "998    999  Fb2FE369D1E171A   Jermaine    Phelps    Male   \n",
       "999   1000  8b756f6231DDC6e        Lee      Tran  Female   \n",
       "\n",
       "                             Email                  Phone Date of birth  \\\n",
       "0              pwarner@example.org           857.139.8239    27-01-2014   \n",
       "1    fergusonkatherine@example.net                    NaN    26-07-1931   \n",
       "2              fhoward@example.org          (599)782-0605    25-11-2013   \n",
       "3            zjohnston@example.com                    NaN    17-11-2012   \n",
       "4                 elin@example.net     (390)417-1635x3010    15-04-1923   \n",
       "..                             ...                    ...           ...   \n",
       "995         lyonsdaisy@example.net           021.775.2933    05-01-1959   \n",
       "996        dariusbryan@example.com   001-149-710-7799x721    06-10-2001   \n",
       "997         georgechan@example.org  +1-750-774-4128x33265    13-05-1918   \n",
       "998            wanda04@example.net          (915)292-2254    31-08-1971   \n",
       "999        deannablack@example.org     079.752.5424x67259    24-01-1947   \n",
       "\n",
       "                           Job Title  Salary  \n",
       "0                  Probation officer   90000  \n",
       "1                             Dancer   80000  \n",
       "2                               Copy   50000  \n",
       "3           Counselling psychologist   65000  \n",
       "4                Biomedical engineer  100000  \n",
       "..                               ...     ...  \n",
       "995                Personnel officer   90000  \n",
       "996          Education administrator   50000  \n",
       "997  Commercial/residential surveyor   60000  \n",
       "998                 Ambulance person  100000  \n",
       "999       Nurse, learning disability   90000  \n",
       "\n",
       "[1000 rows x 10 columns]"
      ]
     },
     "execution_count": 68,
     "metadata": {},
     "output_type": "execute_result"
    }
   ],
   "source": [
    "import pandas as pd\n",
    "\n",
    "pd.read_csv('People Data.csv')"
   ]
  },
  {
   "cell_type": "code",
   "execution_count": 69,
   "id": "17c1de3d-d4da-47bb-bc0b-545b95fb8c97",
   "metadata": {},
   "outputs": [
    {
     "name": "stdout",
     "output_type": "stream",
     "text": [
      "Cleaned DataFrame:\n",
      "         Phone\n",
      "0  12345678901\n",
      "1   2345678902\n",
      "2   2345678903\n",
      "3   2345678904\n",
      "\n",
      "Column Attributes and Data Types:\n",
      "<class 'pandas.core.frame.DataFrame'>\n",
      "RangeIndex: 4 entries, 0 to 3\n",
      "Data columns (total 1 columns):\n",
      " #   Column  Non-Null Count  Dtype\n",
      "---  ------  --------------  -----\n",
      " 0   Phone   4 non-null      int64\n",
      "dtypes: int64(1)\n",
      "memory usage: 160.0 bytes\n",
      "None\n"
     ]
    }
   ],
   "source": [
    "import pandas as pd\n",
    "\n",
    "# Sample data\n",
    "data = {\n",
    "    'Phone': ['+1-234-567-8901', '234.567.8902', '(234) 567-8903', '2345678904']\n",
    "}\n",
    "\n",
    "\n",
    "df = pd.DataFrame(data) # Create DataFrame\n",
    "\n",
    "\n",
    "df['Phone'] = df['Phone'].replace(r'\\D+', '', regex=True) # Remove non-numeric characters\n",
    "\n",
    "# Convert to numeric data type\n",
    "df['Phone'] = pd.to_numeric(df['Phone'], errors='coerce')\n",
    "\n",
    "# Display the DataFrame\n",
    "print(\"Cleaned DataFrame:\")\n",
    "print(df)\n",
    "\n"
   ]
  },
  {
   "cell_type": "code",
   "execution_count": 71,
   "id": "3d2e7ea2-b272-4960-a813-e704a0fc8dbe",
   "metadata": {},
   "outputs": [
    {
     "name": "stdout",
     "output_type": "stream",
     "text": [
      "\n",
      "Column Attributes and Data Types:\n",
      "<class 'pandas.core.frame.DataFrame'>\n",
      "RangeIndex: 4 entries, 0 to 3\n",
      "Data columns (total 1 columns):\n",
      " #   Column  Non-Null Count  Dtype\n",
      "---  ------  --------------  -----\n",
      " 0   Phone   4 non-null      int64\n",
      "dtypes: int64(1)\n",
      "memory usage: 160.0 bytes\n",
      "None\n"
     ]
    }
   ],
   "source": [
    "# Display column attributes and data types\n",
    "\n",
    "print(\"\\nColumn Attributes and Data Types:\")\n",
    "print(df.info())\n"
   ]
  },
  {
   "cell_type": "code",
   "execution_count": null,
   "id": "a6faea45-ec5f-4a9a-8e67-053cc4c361a9",
   "metadata": {},
   "outputs": [],
   "source": []
  },
  {
   "cell_type": "code",
   "execution_count": null,
   "id": "1347004e-47f8-4113-8749-42ae55b2072b",
   "metadata": {},
   "outputs": [],
   "source": [
    "8.  Perform the following tasks using people dataset:\n",
    "\n",
    " a) Read the 'data.csv' file using pandas, skipping the first 50 rows.\n",
    "\n",
    " b) Only read the columns: 'Last Name', ‘Gender’,’Email’,‘Phone’ and ‘Salary’ from the file.\n",
    "\n",
    " c) Display the first 10 rows of the filtered dataset.\n",
    "\n",
    " d) Extract the ‘Salary’' column as a Series and display its last 5 valuess."
   ]
  },
  {
   "cell_type": "code",
   "execution_count": 73,
   "id": "2bfa30ce-1541-4e04-b24b-5a77c5ba0a18",
   "metadata": {},
   "outputs": [
    {
     "name": "stdout",
     "output_type": "stream",
     "text": [
      "   50  afF3018e9cdd1dA     George  Mercer  Female  \\\n",
      "0  51  CccE5DAb6E288e5         Jo  Zavala    Male   \n",
      "1  52  DfBDc3621D4bcec     Joshua   Carey  Female   \n",
      "2  53  f55b0A249f5E44D     Rickey   Hobbs  Female   \n",
      "3  54  Ed71DcfaBFd0beE      Robyn  Reilly    Male   \n",
      "4  55  FDaFD0c3f5387EC  Christina  Conrad    Male   \n",
      "\n",
      "  douglascontreras@example.net    +1-326-669-0118x4341  11-09-1941  \\\n",
      "0         pamela64@example.net  001-859-448-9935x54536  23-11-1992   \n",
      "1    dianashepherd@example.net    001-274-739-8470x814  07-01-1915   \n",
      "2    ingramtiffany@example.org        241.179.9509x498  01-07-1910   \n",
      "3   carriecrawford@example.org       207.797.8345x6177  27-07-1982   \n",
      "4   fuentesclaudia@example.net    001-599-042-7428x143  06-01-1998   \n",
      "\n",
      "  Human resources officer   70000  \n",
      "0            Nurse, adult   80000  \n",
      "1     Seismic interpreter   70000  \n",
      "2               Barrister   60000  \n",
      "3    Engineer, structural  100000  \n",
      "4         Producer, radio   50000  \n"
     ]
    }
   ],
   "source": [
    "# a) Read the 'data.csv' file using pandas, skipping the first 50 rows.\n",
    "\n",
    "import pandas as pd\n",
    "\n",
    "\n",
    "\n",
    "df = pd.read_csv('People Data.csv', skiprows=50)\n",
    "\n",
    "# Display the first few rows of the DataFrame to confirm\n",
    "print(df.head())\n"
   ]
  },
  {
   "cell_type": "code",
   "execution_count": null,
   "id": "2a260d6f-53e7-4882-ae8b-feda4bb88fc8",
   "metadata": {},
   "outputs": [],
   "source": []
  },
  {
   "cell_type": "code",
   "execution_count": 77,
   "id": "8a8f7fae-3275-40b4-8214-355c6565dcfc",
   "metadata": {},
   "outputs": [
    {
     "name": "stdout",
     "output_type": "stream",
     "text": [
      "  Last Name  Gender                          Email               Phone  Salary\n",
      "0   Mahoney    Male            pwarner@example.org        857.139.8239   90000\n",
      "1    Rivers  Female  fergusonkatherine@example.net                 NaN   80000\n",
      "2    Lowery  Female            fhoward@example.org       (599)782-0605   50000\n",
      "3    Hooper    Male          zjohnston@example.com                 NaN   65000\n",
      "4      Rice  Female               elin@example.net  (390)417-1635x3010  100000\n"
     ]
    }
   ],
   "source": [
    "# b) Only read the columns: 'Last Name', ‘Gender’,’Email’,‘Phone’ and ‘Salary’ from the file.\n",
    "\n",
    "import pandas as pd\n",
    "\n",
    "# Specify the columns to read\n",
    "columns_to_read = ['Last Name', 'Gender', 'Email', 'Phone', 'Salary']\n",
    "\n",
    "# Read the CSV file, selecting only the specified columns\n",
    "df = pd.read_csv('People Data.csv', usecols=columns_to_read)\n",
    "\n",
    "# Display the first few rows of the DataFrame to confirm\n",
    "print(df.head())\n",
    "\n"
   ]
  },
  {
   "cell_type": "code",
   "execution_count": 79,
   "id": "d3552907-b702-4f29-b562-77d9705f0a43",
   "metadata": {},
   "outputs": [
    {
     "name": "stdout",
     "output_type": "stream",
     "text": [
      "  Last Name  Gender                          Email               Phone  Salary\n",
      "0   Mahoney    Male            pwarner@example.org        857.139.8239   90000\n",
      "1    Rivers  Female  fergusonkatherine@example.net                 NaN   80000\n",
      "2    Lowery  Female            fhoward@example.org       (599)782-0605   50000\n",
      "3    Hooper    Male          zjohnston@example.com                 NaN   65000\n",
      "4      Rice  Female               elin@example.net  (390)417-1635x3010  100000\n",
      "5  Caldwell    Male          kaitlin13@example.net          8537800927   50000\n",
      "6   Hoffman    Male         jeffharvey@example.com   093.655.7480x7895   60000\n",
      "7  Andersen    Male           alicia33@example.org          4709522945   65000\n",
      "8      Mays    Male             jake50@example.com        013.820.4758   50000\n",
      "9  Mitchell    Male      lanechristina@example.net  (560)903-5068x4985   50000\n"
     ]
    }
   ],
   "source": [
    "# c) Display the first 10 rows of the filtered dataset.\n",
    "\n",
    "import pandas as pd\n",
    "\n",
    "# Specify the columns to read\n",
    "columns_to_read = ['Last Name', 'Gender', 'Email', 'Phone', 'Salary']\n",
    "\n",
    "# Read the CSV file, selecting only the specified columns\n",
    "df = pd.read_csv('People Data.csv', usecols=columns_to_read)\n",
    "\n",
    "# Display the first 10 rows of the DataFrame\n",
    "print(df.head(10))\n"
   ]
  },
  {
   "cell_type": "code",
   "execution_count": 80,
   "id": "517d5ae0-7724-471b-a27f-39a139a4d242",
   "metadata": {},
   "outputs": [
    {
     "name": "stdout",
     "output_type": "stream",
     "text": [
      "995     90000\n",
      "996     50000\n",
      "997     60000\n",
      "998    100000\n",
      "999     90000\n",
      "Name: Salary, dtype: int64\n"
     ]
    }
   ],
   "source": [
    "#d) Extract the ‘Salary’' column as a Series and display its last 5 valuess.\n",
    "\n",
    "import pandas as pd\n",
    "\n",
    "# Specify the columns to read\n",
    "columns_to_read = ['Last Name', 'Gender', 'Email', 'Phone', 'Salary']\n",
    "\n",
    "# Read the CSV file, selecting only the specified columns\n",
    "df = pd.read_csv('People Data.csv', usecols=columns_to_read)\n",
    "\n",
    "# Extract the 'Salary' column as a Series\n",
    "salary_series = df['Salary']\n",
    "\n",
    "# Display the last 5 values of the 'Salary' Series\n",
    "print(salary_series.tail(5))\n",
    "\n"
   ]
  },
  {
   "cell_type": "code",
   "execution_count": null,
   "id": "aac0491e-9f91-4acc-a210-acc9df102607",
   "metadata": {},
   "outputs": [],
   "source": []
  },
  {
   "cell_type": "code",
   "execution_count": null,
   "id": "4f3ed4c9-a6e0-459b-a4a7-879bb4aefa7c",
   "metadata": {},
   "outputs": [],
   "source": [
    "9. Filter and select rows from the People_Dataset, where the “Last Name' column contains the name 'Duke', \n",
    "'Gender' column contains the word Female and ‘salary’ should be less than 85000"
   ]
  },
  {
   "cell_type": "code",
   "execution_count": 82,
   "id": "24db4837-5041-4006-a5a2-084a1ab8f568",
   "metadata": {},
   "outputs": [
    {
     "name": "stdout",
     "output_type": "stream",
     "text": [
      "    Last Name  Gender                     Email                   Phone  \\\n",
      "45       Duke  Female       diana26@example.net  001-366-475-8607x04350   \n",
      "210      Duke  Female       robin78@example.com            740.434.0212   \n",
      "457      Duke  Female  perryhoffman@example.org     +1-903-596-0995x489   \n",
      "729      Duke  Female   kevinkramer@example.net            982.692.6257   \n",
      "\n",
      "     Salary  \n",
      "45    60000  \n",
      "210   50000  \n",
      "457   50000  \n",
      "729   70000  \n"
     ]
    }
   ],
   "source": [
    "import pandas as pd\n",
    "\n",
    "# Specify the columns to read\n",
    "columns_to_read = ['Last Name', 'Gender', 'Email', 'Phone', 'Salary']\n",
    "\n",
    "# Read the CSV file, selecting only the specified columns\n",
    "df = pd.read_csv('People Data.csv', usecols=columns_to_read)\n",
    "\n",
    "# Apply filters\n",
    "filtered_df = df[\n",
    "    (df['Last Name'].str.contains('Duke', case=False, na=False)) &\n",
    "    (df['Gender'].str.contains('Female', case=False, na=False)) &\n",
    "    (df['Salary'] < 85000)\n",
    "]\n",
    "\n",
    "# Display the filtered DataFrame\n",
    "print(filtered_df)\n"
   ]
  },
  {
   "cell_type": "code",
   "execution_count": null,
   "id": "2ee6bd27-231b-4141-b0de-dfc3dcc8c7d5",
   "metadata": {},
   "outputs": [],
   "source": []
  },
  {
   "cell_type": "code",
   "execution_count": null,
   "id": "e2ac451a-77d7-4e8e-8925-5a5c8275129d",
   "metadata": {},
   "outputs": [],
   "source": [
    "10. Create a 7\"5 Dataframe in Pandas using a series generator from 35 random integers between 1 to 6?"
   ]
  },
  {
   "cell_type": "code",
   "execution_count": 84,
   "id": "d28fd015-1e8f-4312-bdaf-c639fee484f0",
   "metadata": {},
   "outputs": [
    {
     "name": "stdout",
     "output_type": "stream",
     "text": [
      "   A  B  C  D  E\n",
      "0  5  4  2  2  1\n",
      "1  1  3  6  4  1\n",
      "2  5  3  1  3  5\n",
      "3  3  5  3  6  4\n",
      "4  6  2  5  6  1\n",
      "5  6  2  6  3  1\n",
      "6  1  3  3  5  1\n"
     ]
    }
   ],
   "source": [
    "import pandas as pd\n",
    "import numpy as np\n",
    "\n",
    "# Generate 35 random integers between 1 and 6\n",
    "random_integers = np.random.randint(1, 7, size=35)\n",
    "\n",
    "# Reshape the array into a 7x5 DataFrame\n",
    "df = pd.DataFrame(random_integers.reshape(7, 5), columns=['A', 'B', 'C', 'D', 'E'])\n",
    "\n",
    "# Display the DataFrame\n",
    "print(df)\n",
    "\n"
   ]
  },
  {
   "cell_type": "code",
   "execution_count": null,
   "id": "eb885422-9390-47d8-9a3b-bf387dc6ea5b",
   "metadata": {},
   "outputs": [],
   "source": []
  },
  {
   "cell_type": "code",
   "execution_count": null,
   "id": "54961ff9-48f7-4951-96e5-a4edece68dc4",
   "metadata": {},
   "outputs": [],
   "source": [
    "11. Create two different Series, each of length 50, with the following criteria:\n",
    "\n",
    "a) The first Series should contain random numbers ranging from 10 to 50.\n",
    "\n",
    "b) The second Series should contain random numbers ranging from 100 to 1000.\n",
    "\n",
    "c) Create a DataFrame by joining these Series by column, and, change the names of the columns to 'col1', 'col2',\n",
    "etc&"
   ]
  },
  {
   "cell_type": "code",
   "execution_count": 86,
   "id": "03d092b5-db91-455d-8893-4b725d160cf0",
   "metadata": {},
   "outputs": [
    {
     "name": "stdout",
     "output_type": "stream",
     "text": [
      "0     34\n",
      "1     25\n",
      "2     34\n",
      "3     26\n",
      "4     21\n",
      "5     36\n",
      "6     35\n",
      "7     22\n",
      "8     19\n",
      "9     43\n",
      "10    13\n",
      "11    22\n",
      "12    23\n",
      "13    50\n",
      "14    42\n",
      "15    11\n",
      "16    23\n",
      "17    43\n",
      "18    10\n",
      "19    49\n",
      "20    42\n",
      "21    21\n",
      "22    12\n",
      "23    26\n",
      "24    17\n",
      "25    50\n",
      "26    41\n",
      "27    48\n",
      "28    42\n",
      "29    25\n",
      "30    11\n",
      "31    16\n",
      "32    23\n",
      "33    41\n",
      "34    49\n",
      "35    50\n",
      "36    42\n",
      "37    34\n",
      "38    10\n",
      "39    15\n",
      "40    47\n",
      "41    12\n",
      "42    10\n",
      "43    18\n",
      "44    50\n",
      "45    41\n",
      "46    31\n",
      "47    41\n",
      "48    11\n",
      "49    47\n",
      "dtype: int64\n"
     ]
    }
   ],
   "source": [
    "#a) The first Series should contain random numbers ranging from 10 to 50.\n",
    "\n",
    "import pandas as pd\n",
    "import numpy as np\n",
    "\n",
    "# Create a Series with 50 random integers ranging from 10 to 50\n",
    "series1 = pd.Series(np.random.randint(10, 51, size=50))\n",
    "\n",
    "# Display the Series\n",
    "print(series1)\n"
   ]
  },
  {
   "cell_type": "code",
   "execution_count": 89,
   "id": "0a564db3-1889-4513-a69e-a35d230dff84",
   "metadata": {},
   "outputs": [
    {
     "name": "stdout",
     "output_type": "stream",
     "text": [
      "First Series:\n",
      "0     40\n",
      "1     14\n",
      "2     17\n",
      "3     11\n",
      "4     16\n",
      "5     21\n",
      "6     48\n",
      "7     14\n",
      "8     32\n",
      "9     15\n",
      "10    48\n",
      "11    33\n",
      "12    39\n",
      "13    18\n",
      "14    40\n",
      "15    25\n",
      "16    39\n",
      "17    27\n",
      "18    47\n",
      "19    21\n",
      "20    30\n",
      "21    34\n",
      "22    26\n",
      "23    45\n",
      "24    17\n",
      "25    34\n",
      "26    37\n",
      "27    31\n",
      "28    24\n",
      "29    38\n",
      "30    27\n",
      "31    11\n",
      "32    39\n",
      "33    36\n",
      "34    18\n",
      "35    48\n",
      "36    48\n",
      "37    20\n",
      "38    18\n",
      "39    22\n",
      "40    49\n",
      "41    28\n",
      "42    22\n",
      "43    35\n",
      "44    10\n",
      "45    41\n",
      "46    15\n",
      "47    35\n",
      "48    44\n",
      "49    33\n",
      "dtype: int64\n",
      "\n",
      "Second Series:\n",
      "0     147\n",
      "1     252\n",
      "2     136\n",
      "3     298\n",
      "4     811\n",
      "5     993\n",
      "6     551\n",
      "7     270\n",
      "8     911\n",
      "9     187\n",
      "10    367\n",
      "11    818\n",
      "12    178\n",
      "13    597\n",
      "14    726\n",
      "15    749\n",
      "16    203\n",
      "17    450\n",
      "18    847\n",
      "19    219\n",
      "20    418\n",
      "21    925\n",
      "22    501\n",
      "23    517\n",
      "24    453\n",
      "25    384\n",
      "26    314\n",
      "27    702\n",
      "28    870\n",
      "29    756\n",
      "30    345\n",
      "31    378\n",
      "32    525\n",
      "33    759\n",
      "34    517\n",
      "35    517\n",
      "36    591\n",
      "37    132\n",
      "38    937\n",
      "39    414\n",
      "40    851\n",
      "41    355\n",
      "42    395\n",
      "43    932\n",
      "44    277\n",
      "45    127\n",
      "46    120\n",
      "47    913\n",
      "48    686\n",
      "49    305\n",
      "dtype: int64\n"
     ]
    }
   ],
   "source": [
    "#b) The second Series should contain random numbers ranging from 100 to 1000.\n",
    "\n",
    "import pandas as pd\n",
    "import numpy as np\n",
    "\n",
    "# Create the first Series with 50 random integers ranging from 10 to 50\n",
    "series1 = pd.Series(np.random.randint(10, 51, size=50))\n",
    "\n",
    "# Create the second Series with 50 random integers ranging from 100 to 1000\n",
    "series2 = pd.Series(np.random.randint(100, 1001, size=50))\n",
    "\n",
    "# Display the Series\n",
    "print(\"First Series:\")\n",
    "print(series1)\n",
    "\n",
    "print(\"\\nSecond Series:\")\n",
    "print(series2)\n",
    "\n"
   ]
  },
  {
   "cell_type": "code",
   "execution_count": 90,
   "id": "e2e48ad7-2205-4724-8b04-bf147b5cc766",
   "metadata": {},
   "outputs": [
    {
     "name": "stdout",
     "output_type": "stream",
     "text": [
      "    col1  col2\n",
      "0     48   909\n",
      "1     42   646\n",
      "2     19   101\n",
      "3     48   893\n",
      "4     44   945\n",
      "5     26   665\n",
      "6     21   990\n",
      "7     28   262\n",
      "8     30   687\n",
      "9     36   941\n",
      "10    30   825\n",
      "11    29   117\n",
      "12    30   697\n",
      "13    45   918\n",
      "14    48   329\n",
      "15    20   407\n",
      "16    29   826\n",
      "17    50   402\n",
      "18    31   764\n",
      "19    37   894\n",
      "20    33   516\n",
      "21    14   944\n",
      "22    12   502\n",
      "23    17   659\n",
      "24    20   657\n",
      "25    20   221\n",
      "26    49   202\n",
      "27    25   223\n",
      "28    37   206\n",
      "29    48   792\n",
      "30    45   841\n",
      "31    23   971\n",
      "32    17   900\n",
      "33    46   435\n",
      "34    30   365\n",
      "35    33   306\n",
      "36    35   511\n",
      "37    18   588\n",
      "38    41   584\n",
      "39    18   344\n",
      "40    48   215\n",
      "41    40   539\n",
      "42    32   389\n",
      "43    50   119\n",
      "44    45   826\n",
      "45    37   440\n",
      "46    18   901\n",
      "47    33   137\n",
      "48    18   296\n",
      "49    26   149\n"
     ]
    }
   ],
   "source": [
    "#c) Create a DataFrame by joining these Series by column, and, change the names of the columns to 'col1', 'col2',\n",
    "#etc&\n",
    "import pandas as pd\n",
    "import numpy as np\n",
    "\n",
    "# Create the first Series with 50 random integers ranging from 10 to 50\n",
    "series1 = pd.Series(np.random.randint(10, 51, size=50))\n",
    "\n",
    "# Create the second Series with 50 random integers ranging from 100 to 1000\n",
    "series2 = pd.Series(np.random.randint(100, 1001, size=50))\n",
    "\n",
    "# Combine the Series into a DataFrame by columns\n",
    "df = pd.DataFrame({\n",
    "    'col1': series1,\n",
    "    'col2': series2\n",
    "})\n",
    "\n",
    "# Display the DataFrame\n",
    "print(df)\n",
    "\n"
   ]
  },
  {
   "cell_type": "code",
   "execution_count": null,
   "id": "0fa6285b-82ce-4b08-9541-e6879ca7a920",
   "metadata": {},
   "outputs": [],
   "source": []
  },
  {
   "cell_type": "code",
   "execution_count": null,
   "id": "39d50996-8466-4a4d-b8ea-f01d338d5474",
   "metadata": {},
   "outputs": [],
   "source": [
    "12. Perform the following operations using people data set:\n",
    "\n",
    "a) Delete the 'Email', 'Phone', and 'Date of birth' columns from the dataset.\n",
    "\n",
    "b) Delete the rows containing any missing values.\n",
    "\n",
    "d) Print the final output also."
   ]
  },
  {
   "cell_type": "code",
   "execution_count": 95,
   "id": "051fe2cb-dd1d-4400-809b-ffeee62a2b10",
   "metadata": {},
   "outputs": [
    {
     "name": "stdout",
     "output_type": "stream",
     "text": [
      "     Index          User Id First Name Last Name  Gender  \\\n",
      "0        1  8717bbf45cCDbEe     Shelia   Mahoney    Male   \n",
      "1        2  3d5AD30A4cD38ed         Jo    Rivers  Female   \n",
      "2        3  810Ce0F276Badec     Sheryl    Lowery  Female   \n",
      "3        4  BF2a889C00f0cE1    Whitney    Hooper    Male   \n",
      "4        5  9afFEafAe1CBBB9    Lindsey      Rice  Female   \n",
      "..     ...              ...        ...       ...     ...   \n",
      "995    996  fedF4c7Fd9e7cFa       Kurt    Bryant  Female   \n",
      "996    997  ECddaFEDdEc4FAB      Donna     Barry  Female   \n",
      "997    998  2adde51d8B8979E      Cathy  Mckinney  Female   \n",
      "998    999  Fb2FE369D1E171A   Jermaine    Phelps    Male   \n",
      "999   1000  8b756f6231DDC6e        Lee      Tran  Female   \n",
      "\n",
      "                           Job Title  Salary  \n",
      "0                  Probation officer   90000  \n",
      "1                             Dancer   80000  \n",
      "2                               Copy   50000  \n",
      "3           Counselling psychologist   65000  \n",
      "4                Biomedical engineer  100000  \n",
      "..                               ...     ...  \n",
      "995                Personnel officer   90000  \n",
      "996          Education administrator   50000  \n",
      "997  Commercial/residential surveyor   60000  \n",
      "998                 Ambulance person  100000  \n",
      "999       Nurse, learning disability   90000  \n",
      "\n",
      "[1000 rows x 7 columns]\n"
     ]
    }
   ],
   "source": [
    "#a) Delete the 'Email', 'Phone', and 'Date of birth' columns from the dataset.\n",
    "\n",
    "import pandas as pd\n",
    "\n",
    "# Load the dataset (adjust the filename/path as needed)\n",
    "df = pd.read_csv('People Data.csv')\n",
    "\n",
    "# a) Delete the 'Email', 'Phone', and 'Date of birth' columns\n",
    "df = df.drop(columns=['Email', 'Phone', 'Date of birth'])\n",
    "\n",
    "\n",
    "print(df)\n"
   ]
  },
  {
   "cell_type": "code",
   "execution_count": 97,
   "id": "d704d56e-9613-4e6e-a837-6bf8a483c993",
   "metadata": {},
   "outputs": [
    {
     "name": "stdout",
     "output_type": "stream",
     "text": [
      "     Index          User Id First Name Last Name  Gender  \\\n",
      "0        1  8717bbf45cCDbEe     Shelia   Mahoney    Male   \n",
      "1        2  3d5AD30A4cD38ed         Jo    Rivers  Female   \n",
      "2        3  810Ce0F276Badec     Sheryl    Lowery  Female   \n",
      "3        4  BF2a889C00f0cE1    Whitney    Hooper    Male   \n",
      "4        5  9afFEafAe1CBBB9    Lindsey      Rice  Female   \n",
      "..     ...              ...        ...       ...     ...   \n",
      "995    996  fedF4c7Fd9e7cFa       Kurt    Bryant  Female   \n",
      "996    997  ECddaFEDdEc4FAB      Donna     Barry  Female   \n",
      "997    998  2adde51d8B8979E      Cathy  Mckinney  Female   \n",
      "998    999  Fb2FE369D1E171A   Jermaine    Phelps    Male   \n",
      "999   1000  8b756f6231DDC6e        Lee      Tran  Female   \n",
      "\n",
      "                           Job Title  Salary  \n",
      "0                  Probation officer   90000  \n",
      "1                             Dancer   80000  \n",
      "2                               Copy   50000  \n",
      "3           Counselling psychologist   65000  \n",
      "4                Biomedical engineer  100000  \n",
      "..                               ...     ...  \n",
      "995                Personnel officer   90000  \n",
      "996          Education administrator   50000  \n",
      "997  Commercial/residential surveyor   60000  \n",
      "998                 Ambulance person  100000  \n",
      "999       Nurse, learning disability   90000  \n",
      "\n",
      "[1000 rows x 7 columns]\n"
     ]
    }
   ],
   "source": [
    "# b) Delete the rows containing any missing values\n",
    "df = df.dropna()\n",
    "\n",
    "# d) Print the final DataFrame\n",
    "print(df)"
   ]
  },
  {
   "cell_type": "code",
   "execution_count": null,
   "id": "23b8c9af-4f17-4c4c-8161-c5af5d1889a8",
   "metadata": {},
   "outputs": [],
   "source": []
  },
  {
   "cell_type": "code",
   "execution_count": null,
   "id": "20b8c4c4-640d-47e1-992d-7692df7feda3",
   "metadata": {},
   "outputs": [],
   "source": [
    "13. Create two NumPy arrays, x and y, each containing 100 random float values between 0 and 1. Perform the\n",
    "following tasks using Matplotlib and NumPy:\n",
    "\n",
    "a) Create a scatter plot using x and y, setting the color of the points to red and the marker style to 'o'.\n",
    "\n",
    "b) Add a horizontal line at y = 0.5 using a dashed line style and label it as 'y = 0.5'.\n",
    "\n",
    "c) Add a vertical line at x = 0.5 using a dotted line style and label it as 'x = 0.5'.\n",
    "\n",
    "d) Label the x-axis as 'X-axis' and the y-axis as 'Y-axis'.\n",
    "\n",
    "e) Set the title of the plot as 'Advanced Scatter Plot of Random Values'.\n",
    "\n",
    "f) Display a legend for the scatter plot, the horizontal line, and the vertical line."
   ]
  },
  {
   "cell_type": "code",
   "execution_count": 131,
   "id": "3a8a0b80-b8ac-4aab-b77d-fa8870ec806e",
   "metadata": {},
   "outputs": [],
   "source": [
    "#a) Create a scatter plot using x and y, setting the color of the points to red and the marker style to 'o'.\n",
    "\n",
    "\n",
    "import numpy as np\n",
    "import matplotlib.pyplot as plt\n",
    "\n",
    "# Generate random float values between 0 and 1\n",
    "x = np.random.rand(100)\n",
    "y = np.random.rand(100)\n",
    "\n",
    "# Create a scatter plot\n",
    "plt.scatter(x, y, color='red', marker='o')\n",
    "\n",
    "# Set title and labels\n",
    "plt.title('Scatter Plot of Random Values')\n",
    "plt.xlabel('x values')\n",
    "plt.ylabel('y values')\n",
    "\n",
    "# Show the plot\n",
    "plt.show()"
   ]
  },
  {
   "cell_type": "code",
   "execution_count": 132,
   "id": "527a901b-02fa-41fc-ba40-8f1dc973784d",
   "metadata": {},
   "outputs": [],
   "source": [
    "#b) Add a horizontal line at y = 0.5 using a dashed line style and label it as 'y = 0.5'.\n",
    "\n",
    "\n",
    "import numpy as np\n",
    "import matplotlib.pyplot as plt\n",
    "\n",
    "# Generate random float values between 0 and 1\n",
    "x = np.random.rand(100)\n",
    "y = np.random.rand(100)\n",
    "\n",
    "# Create a scatter plot\n",
    "plt.scatter(x, y, color='red', marker='o')\n",
    "\n",
    "# Add a horizontal line at y = 0.5\n",
    "plt.axhline(y=0.5, color='blue', linestyle='--', label='y = 0.5')\n",
    "\n",
    "# Set title and labels\n",
    "plt.title('Scatter Plot with Horizontal Line')\n",
    "plt.xlabel('x values')\n",
    "plt.ylabel('y values')\n",
    "\n",
    "# Add a legend\n",
    "plt.legend()\n",
    "\n",
    "# Show the plot\n",
    "plt.show()\n"
   ]
  },
  {
   "cell_type": "code",
   "execution_count": 133,
   "id": "1b93fb62-3bd3-4da0-9d89-61e11e1bb715",
   "metadata": {},
   "outputs": [],
   "source": [
    "#c) Add a vertical line at x = 0.5 using a dotted line style and label it as 'x = 0.5'.\n",
    "\n",
    "import numpy as np\n",
    "import matplotlib.pyplot as plt\n",
    "\n",
    "# Generate random float values between 0 and 1\n",
    "x = np.random.rand(100)\n",
    "y = np.random.rand(100)\n",
    "\n",
    "# Create a scatter plot\n",
    "plt.scatter(x, y, color='red', marker='o')\n",
    "\n",
    "# Add a horizontal line at y = 0.5\n",
    "plt.axhline(y=0.5, color='blue', linestyle='--', label='y = 0.5')\n",
    "\n",
    "# Add a vertical line at x = 0.5\n",
    "plt.axvline(x=0.5, color='green', linestyle=':', label='x = 0.5')\n",
    "\n",
    "# Set title and labels\n",
    "plt.title('Scatter Plot with Horizontal and Vertical Lines')\n",
    "plt.xlabel('x values')\n",
    "plt.ylabel('y values')\n",
    "\n",
    "# Add a legend\n",
    "plt.legend()\n",
    "\n",
    "# Show the plot\n",
    "plt.show()\n"
   ]
  },
  {
   "cell_type": "code",
   "execution_count": 134,
   "id": "7571f4d6-27a5-4fb0-bdbd-15fc51df1c4f",
   "metadata": {},
   "outputs": [],
   "source": [
    "#d) Label the x-axis as 'X-axis' and the y-axis as 'Y-axis'.\n",
    "\n",
    "\n",
    "import numpy as np\n",
    "import matplotlib.pyplot as plt\n",
    "\n",
    "# Generate random float values between 0 and 1\n",
    "x = np.random.rand(100)\n",
    "y = np.random.rand(100)\n",
    "\n",
    "# Create a scatter plot\n",
    "plt.scatter(x, y, color='red', marker='o')\n",
    "\n",
    "# Add a horizontal line at y = 0.5\n",
    "plt.axhline(y=0.5, color='blue', linestyle='--', label='y = 0.5')\n",
    "\n",
    "# Add a vertical line at x = 0.5\n",
    "plt.axvline(x=0.5, color='green', linestyle=':', label='x = 0.5')\n",
    "\n",
    "# Set title and labels\n",
    "plt.title('Scatter Plot with Horizontal and Vertical Lines')\n",
    "plt.xlabel('X-axis')  # Label x-axis\n",
    "plt.ylabel('Y-axis')  # Label y-axis\n",
    "\n",
    "# Add a legend\n",
    "plt.legend()\n",
    "\n",
    "# Show the plot\n",
    "plt.show()"
   ]
  },
  {
   "cell_type": "code",
   "execution_count": 135,
   "id": "1adfddb3-90b1-40cc-9556-2d620d459433",
   "metadata": {},
   "outputs": [],
   "source": [
    "#e) Set the title of the plot as 'Advanced Scatter Plot of Random Values'.\n",
    "\n",
    "import numpy as np\n",
    "import matplotlib.pyplot as plt\n",
    "\n",
    "# Generate random float values between 0 and 1\n",
    "x = np.random.rand(100)\n",
    "y = np.random.rand(100)\n",
    "\n",
    "# Create a scatter plot\n",
    "plt.scatter(x, y, color='red', marker='o')\n",
    "\n",
    "# Add a horizontal line at y = 0.5\n",
    "plt.axhline(y=0.5, color='blue', linestyle='--', label='y = 0.5')\n",
    "\n",
    "# Add a vertical line at x = 0.5\n",
    "plt.axvline(x=0.5, color='green', linestyle=':', label='x = 0.5')\n",
    "\n",
    "# Set title and labels\n",
    "plt.title('Advanced Scatter Plot of Random Values')  # Title of the plot\n",
    "plt.xlabel('X-axis')  # Label x-axis\n",
    "plt.ylabel('Y-axis')  # Label y-axis\n",
    "\n",
    "# Add a legend\n",
    "plt.legend()\n",
    "\n",
    "# Show the plot\n",
    "plt.show()\n"
   ]
  },
  {
   "cell_type": "code",
   "execution_count": 137,
   "id": "34cbe862-874a-4bd6-accc-401d4659ba25",
   "metadata": {},
   "outputs": [],
   "source": [
    "#f Display a legend for the scatter plot, the horizontal line, and the vertical line.\n",
    "\n",
    "import numpy as np\n",
    "import matplotlib.pyplot as plt\n",
    "\n",
    "# Generate random float values between 0 and 1\n",
    "x = np.random.rand(100)\n",
    "y = np.random.rand(100)\n",
    "\n",
    "# Create a scatter plot\n",
    "plt.scatter(x, y, color='red', marker='o', label='Scatter Points')\n",
    "\n",
    "# Add a horizontal line at y = 0.5\n",
    "plt.axhline(y=0.5, color='blue', linestyle='--', label='y = 0.5')\n",
    "\n",
    "# Add a vertical line at x = 0.5\n",
    "plt.axvline(x=0.5, color='green', linestyle=':', label='x = 0.5')\n",
    "\n",
    "# Set title and labels\n",
    "plt.title('Advanced Scatter Plot of Random Values')  # Title of the plot\n",
    "plt.xlabel('X-axis')  # Label x-axis\n",
    "plt.ylabel('Y-axis')  # Label y-axis\n",
    "\n",
    "# Add a legend\n",
    "plt.legend()\n",
    "\n",
    "# Show the plot\n",
    "plt.show()\n"
   ]
  },
  {
   "cell_type": "code",
   "execution_count": null,
   "id": "937f73f7-9f1a-407d-bdb1-40f5488af344",
   "metadata": {},
   "outputs": [],
   "source": []
  },
  {
   "cell_type": "code",
   "execution_count": null,
   "id": "d03c388b-3187-46c4-b364-851cee0636cc",
   "metadata": {},
   "outputs": [],
   "source": [
    "14. Create a time-series dataset in a Pandas DataFrame with columns: 'Date', 'Temperature', 'Humidity' and\n",
    "Perform the following tasks using Matplotlib:\n",
    "Create a NumPy array data containing 1000 samples from a normal distribution. Perform the following\n",
    "tasks using Matplotlib:\n",
    "\n",
    "\n",
    "a) Plot the 'Temperature' and 'Humidity' on the same \u0018lot with different y-axes (left y-axis for 'Tem\u0018erature' and\n",
    "right y-axis for 'Humidity').\n",
    "\n",
    "b) Label the x-axis as 'Date'.\n",
    "\n",
    "c) Set the title of the plot as 'Temperature and Humidity Over Time'."
   ]
  },
  {
   "cell_type": "code",
   "execution_count": 136,
   "id": "f68181e8-2b01-48ae-8b88-ed252c097780",
   "metadata": {},
   "outputs": [],
   "source": [
    "#a. import pandas as pd\n",
    "\n",
    "import numpy as np\n",
    "import matplotlib.pyplot as plt\n",
    "\n",
    "# Create a time-series dataset\n",
    "np.random.seed(0)  # For reproducibility\n",
    "dates = pd.date_range(start='2024-01-01', periods=100, freq='D')\n",
    "temperature = np.random.normal(loc=20, scale=5, size=len(dates))  # Temperature data\n",
    "humidity = np.random.normal(loc=60, scale=10, size=len(dates))  # Humidity data\n",
    "\n",
    "# Create a DataFrame\n",
    "df = pd.DataFrame({\n",
    "    'Date': dates,\n",
    "    'Temperature': temperature,\n",
    "    'Humidity': humidity\n",
    "})\n",
    "\n",
    "# Plot 'Temperature' and 'Humidity' on the same plot with different y-axes\n",
    "fig, ax1 = plt.subplots(figsize=(10, 6))\n",
    "\n",
    "# Plot 'Temperature' on the left y-axis\n",
    "color = 'tab:red'\n",
    "ax1.set_xlabel('Date')\n",
    "ax1.set_ylabel('Temperature', color=color)\n",
    "ax1.plot(df['Date'], df['Temperature'], color=color, label='Temperature')\n",
    "ax1.tick_params(axis='y', labelcolor=color)\n",
    "\n",
    "# Create a second y-axis to plot 'Humidity'\n",
    "ax2 = ax1.twinx()  \n",
    "color = 'tab:blue'\n",
    "ax2.set_ylabel('Humidity', color=color)  \n",
    "ax2.plot(df['Date'], df['Humidity'], color=color, label='Humidity')\n",
    "ax2.tick_params(axis='y', labelcolor=color)\n",
    "\n",
    "# Add title and legends\n",
    "plt.title('Temperature and Humidity Over Time')\n",
    "fig.tight_layout()  # Adjust layout to make room for the second y-axis\n",
    "\n",
    "# Show plot\n",
    "plt.show()\n",
    "\n",
    "\n"
   ]
  },
  {
   "cell_type": "code",
   "execution_count": 130,
   "id": "f822c01a-58aa-4b68-b8e0-583a4e106154",
   "metadata": {},
   "outputs": [],
   "source": [
    "#b. \n",
    "import pandas as pd\n",
    "import numpy as np\n",
    "import matplotlib.pyplot as plt\n",
    "\n",
    "# Create a time-series dataset\n"
   ]
  },
  {
   "cell_type": "code",
   "execution_count": 129,
   "id": "5282864c-c3c2-43f3-bf56-210b6cb794c9",
   "metadata": {},
   "outputs": [],
   "source": [
    "#c) Set the title of the plot as 'Temperature and Humidity Over Time'.\n",
    "import pandas as pd\n",
    "import numpy as np\n",
    "import matplotlib.pyplot as plt\n",
    "\n",
    "# Create a time-series dataset\n",
    "np.random.seed(0)  # For reproducibility\n",
    "dates = pd.date_range(start='2024-01-01', periods=100, freq='D')\n",
    "temperature = np.random.normal(loc=20, scale=5, size=len(dates))  # Temperature data\n",
    "humidity = np.random.normal(loc=60, scale=10, size=len(dates))  # Humidity data\n",
    "\n",
    "# Create a DataFrame\n",
    "df = pd.DataFrame({\n",
    "    'Date': dates,\n",
    "    'Temperature': temperature,\n",
    "    'Humidity': humidity\n",
    "})\n",
    "\n",
    "# Plot 'Temperature' and 'Humidity' on the same plot with different y-axes\n",
    "fig, ax1 = plt.subplots(figsize=(10, 6))\n",
    "\n",
    "# Plot 'Temperature' on the left y-axis\n",
    "color = 'tab:red'\n",
    "ax1.set_xlabel('Date')  # Label x-axis\n",
    "ax1.set_ylabel('Temperature', color=color)\n",
    "ax1.plot(df['Date'], df['Temperature'], color=color, label='Temperature')\n",
    "ax1.tick_params(axis='y', labelcolor=color)\n",
    "\n",
    "# Create a second y-axis to plot 'Humidity'\n",
    "ax2 = ax1.twinx()  \n",
    "color = 'tab:blue'\n",
    "ax2.set_ylabel('Humidity', color=color)  \n",
    "ax2.plot(df['Date'], df['Humidity'], color=color, label='Humidity')\n",
    "ax2.tick_params(axis='y', labelcolor=color)\n",
    "\n",
    "# Add title and legends\n",
    "plt.title('Temperature and Humidity Over Time')  # Title of the plot\n",
    "fig.tight_layout()  # Adjust layout to make room for the second y-axis\n",
    "\n",
    "# Show plot\n",
    "plt.show()\n",
    "\n"
   ]
  },
  {
   "cell_type": "code",
   "execution_count": null,
   "id": "9fd4616a-dc83-43db-a023-310095f25337",
   "metadata": {},
   "outputs": [],
   "source": []
  },
  {
   "cell_type": "code",
   "execution_count": null,
   "id": "1ccd84f3-b513-41bb-9605-3204092683a4",
   "metadata": {},
   "outputs": [],
   "source": [
    "15. Create a NumPy array data containing 1000 samples from a normal distribution. Perform the following\n",
    "tasks using Matplotlib:\n",
    "\n",
    "a) Plot a histogram of the data with 30 bins.\n",
    "\n",
    "b) Overlay a line plot representing the normal distribution's probability density function (PDF).\n",
    "\n",
    "c) Label the x-axis as 'Value' and the y-axis as 'Frequency/Probability'.\n",
    "\n",
    "d) Set the title of the plot as 'Histogram with PDF Overlay'."
   ]
  },
  {
   "cell_type": "code",
   "execution_count": 128,
   "id": "eec2d63c-4e4e-4924-884e-8f3fb5072130",
   "metadata": {},
   "outputs": [],
   "source": [
    "# a. Plot a histogram of the data with 30 bins.\n",
    "\n",
    "import numpy as np\n",
    "import matplotlib.pyplot as plt\n",
    "\n",
    "# Generate 1000 samples from a normal distribution\n",
    "np.random.seed(0)  # For reproducibility\n",
    "data = np.random.normal(loc=0, scale=1, size=1000)  # Normal distribution with mean=0 and std=1\n",
    "\n",
    "# Plot a histogram of the data with 30 bins\n",
    "plt.hist(data, bins=30, edgecolor='black', alpha=0.7)\n",
    "\n",
    "# Set title and labels\n",
    "plt.title('Histogram of Normally Distributed Data')\n",
    "plt.xlabel('Value')\n",
    "plt.ylabel('Frequency')\n",
    "\n",
    "# Show the plot\n",
    "plt.show()\n"
   ]
  },
  {
   "cell_type": "code",
   "execution_count": 127,
   "id": "f9373ebc-7717-4206-ba1c-600effd20c58",
   "metadata": {},
   "outputs": [],
   "source": [
    "# b. Overlay a line plot representing the normal distribution's probability density function (PDF).\n",
    "\n",
    "\n",
    "import numpy as np\n",
    "import matplotlib.pyplot as plt\n",
    "from scipy.stats import norm\n",
    "\n",
    "# Generate 1000 samples from a normal distribution\n",
    "np.random.seed(0)  # For reproducibility\n",
    "data = np.random.normal(loc=0, scale=1, size=1000)  # Normal distribution with mean=0 and std=1\n",
    "\n",
    "# Plot a histogram of the data with 30 bins\n",
    "plt.hist(data, bins=30, density=True, edgecolor='black', alpha=0.6, label='Histogram')\n",
    "\n",
    "# Calculate the PDF of the normal distribution\n",
    "xmin, xmax = plt.xlim()  # Get the range of x values for the plot\n",
    "x = np.linspace(xmin, xmax, 100)  # Generate x values\n",
    "pdf = norm.pdf(x, loc=0, scale=1)  # Compute the PDF\n",
    "\n",
    "# Overlay the PDF line plot\n",
    "plt.plot(x, pdf, 'k--', label='Normal Distribution PDF')  # 'k--' for black dashed line\n",
    "\n",
    "# Set title and labels\n",
    "plt.title('Histogram and PDF of Normally Distributed Data')\n",
    "plt.xlabel('Value')\n",
    "plt.ylabel('Density')\n",
    "\n",
    "# Add a legend\n",
    "plt.legend()\n",
    "\n",
    "# Show the plot\n",
    "plt.show()\n"
   ]
  },
  {
   "cell_type": "code",
   "execution_count": 126,
   "id": "201bb71b-3c9f-44f0-9db1-39a6545e971a",
   "metadata": {},
   "outputs": [],
   "source": [
    "#d) Label the x-axis as 'Value' and the y-axis as 'Frequency/Probability'.\n",
    "\n",
    "import numpy as np\n",
    "import matplotlib.pyplot as plt\n",
    "from scipy.stats import norm\n",
    "\n",
    "# Generate 1000 samples from a normal distribution\n",
    "np.random.seed(0)  # For reproducibility\n",
    "data = np.random.normal(loc=0, scale=1, size=1000)  # Normal distribution with mean=0 and std=1\n",
    "\n",
    "# Plot a histogram of the data with 30 bins\n",
    "plt.hist(data, bins=30, density=True, edgecolor='black', alpha=0.6, label='Histogram')\n",
    "\n",
    "# Calculate the PDF of the normal distribution\n",
    "xmin, xmax = plt.xlim()  # Get the range of x values for the plot\n",
    "x = np.linspace(xmin, xmax, 100)  # Generate x values\n",
    "pdf = norm.pdf(x, loc=0, scale=1)  # Compute the PDF\n",
    "\n",
    "# Overlay the PDF line plot\n",
    "plt.plot(x, pdf, 'k--', label='Normal Distribution PDF')  # 'k--' for black dashed line\n",
    "\n",
    "# Set title and labels\n",
    "plt.title('Histogram and PDF of Normally Distributed Data')\n",
    "plt.xlabel('Value')  # Label x-axis\n",
    "plt.ylabel('Frequency/Probability')  # Label y-axis\n",
    "\n",
    "# Add a legend\n",
    "plt.legend()\n",
    "\n",
    "# Show the plot\n",
    "plt.show()\n"
   ]
  },
  {
   "cell_type": "code",
   "execution_count": 125,
   "id": "89ce900e-b4e7-472e-8611-8a33dab63993",
   "metadata": {},
   "outputs": [],
   "source": [
    "# c) Label the x-axis as 'Value' and the y-axis as 'Frequency/Probability'.\n",
    "\n",
    "import numpy as np\n",
    "import matplotlib.pyplot as plt\n",
    "from scipy.stats import norm\n",
    "\n",
    "# Generate 1000 samples from a normal distribution\n",
    "np.random.seed(0)  # For reproducibility\n",
    "data = np.random.normal(loc=0, scale=1, size=1000)  # Normal distribution with mean=0 and std=1\n",
    "\n",
    "# Plot a histogram of the data with 30 bins\n",
    "plt.hist(data, bins=30, density=True, edgecolor='black', alpha=0.6, label='Histogram')\n",
    "\n",
    "# Calculate the PDF of the normal distribution\n",
    "xmin, xmax = plt.xlim()  # Get the range of x values for the plot\n",
    "x = np.linspace(xmin, xmax, 100)  # Generate x values\n",
    "pdf = norm.pdf(x, loc=0, scale=1)  # Compute the PDF\n",
    "\n",
    "# Overlay the PDF line plot\n",
    "plt.plot(x, pdf, 'k--', label='Normal Distribution PDF')  # 'k--' for black dashed line\n",
    "\n",
    "# Set title and labels\n",
    "plt.title('Histogram and PDF of Normally Distributed Data')\n",
    "plt.xlabel('Value')  # Label x-axis\n",
    "plt.ylabel('Frequency/Probability')  # Label y-axis\n",
    "\n",
    "# Add a legend\n",
    "plt.legend()\n",
    "\n",
    "# Show the plot\n",
    "plt.show()\n"
   ]
  },
  {
   "cell_type": "code",
   "execution_count": null,
   "id": "b5051ec6-4338-4048-a7a7-fa861be3aacf",
   "metadata": {},
   "outputs": [],
   "source": []
  },
  {
   "cell_type": "code",
   "execution_count": null,
   "id": "ab98e62e-7e1c-4b09-9fc1-2ce986930c4a",
   "metadata": {},
   "outputs": [],
   "source": [
    "18. With Bokeh, plot a line chart of sine wave function, add grid lines, label the azes, abd set the title as 'Sine Wave Function'"
   ]
  },
  {
   "cell_type": "code",
   "execution_count": null,
   "id": "20c6922b-7926-4035-ba39-2d97f0e7b243",
   "metadata": {},
   "outputs": [],
   "source": [
    "\n",
    "from bokeh.plotting import figure, show\n",
    "from bokeh.io import output_notebook\n",
    "import numpy as np\n",
    "\n",
    "# Output to notebook (remove this if using a different output method)\n",
    "output_notebook()\n",
    "\n",
    "# Generate data for the sine wave\n",
    "x = np.linspace(0, 4 * np.pi, 100)  # X values from 0 to 4*pi\n",
    "y = np.sin(x)  # Y values as the sine of X\n",
    "\n",
    "# Create a Bokeh figure\n",
    "p = figure(title=\"Sine Wave Function\", x_axis_label='X', y_axis_label='Y', width=800, height=400)\n",
    "\n",
    "# Add a line renderer\n",
    "p.line(x, y, legend_label=\"Sine Wave\", line_width=2)\n",
    "\n",
    "# Add grid lines (grid is enabled by default, but you can customize it if needed)\n",
    "p.grid.grid_line_color = 'gray'\n",
    "p.grid.grid_line_alpha = 0.5\n",
    "\n",
    "# Show the plot\n",
    "show(p)"
   ]
  },
  {
   "cell_type": "code",
   "execution_count": null,
   "id": "14b3367c-f029-4393-9c13-e133c98d09e3",
   "metadata": {},
   "outputs": [],
   "source": []
  },
  {
   "cell_type": "code",
   "execution_count": null,
   "id": "b78794ae-7648-4146-9dbe-6a5e55b04afc",
   "metadata": {},
   "outputs": [],
   "source": [
    "19. Using Bokeh, generate a bar chart of randomly generated categorical data, color bars based on their\n",
    "values, add hover tooltips to display exact values, label the axes, and set the title as 'Random Categorical\n",
    "Bar Chart'8"
   ]
  },
  {
   "cell_type": "code",
   "execution_count": null,
   "id": "093cc036-4a4a-47c4-82b6-4041af5bf232",
   "metadata": {},
   "outputs": [],
   "source": [
    "from bokeh.io import show\n",
    "from bokeh.plotting import figure\n",
    "from bokeh.models import ColumnDataSource, HoverTool, LinearColorMapper\n",
    "from bokeh.palettes import Viridis256\n",
    "import pandas as pd\n",
    "import numpy as np\n",
    "\n",
    "# Generate random categorical data\n",
    "np.random.seed(0)  # For reproducibility\n",
    "categories = [f'Category {i+1}' for i in range(10)]\n",
    "values = np.random.randint(10, 100, size=len(categories))\n",
    "\n",
    "# Create a DataFrame\n",
    "df = pd.DataFrame({\n",
    "    'Category': categories,\n",
    "    'Value': values\n",
    "})\n",
    "\n",
    "# Create a ColumnDataSource\n",
    "source = ColumnDataSource(df)\n",
    "\n",
    "# Create a color mapper based on values\n",
    "mapper = LinearColorMapper(palette=Viridis256, low=min(values), high=max(values))\n",
    "\n",
    "# Create a Bokeh figure\n",
    "p = figure(x_range=df['Category'], plot_height=400, plot_width=700, title='Random Categorical Bar Chart',\n",
    "           toolbar_location=None, tools='')\n",
    "\n",
    "# Add a bar renderer\n",
    "p.vbar(x='Category', top='Value', width=0.5, source=source, legend_field='Category',\n",
    "       color={'field': 'Value', 'transform': mapper}, line_color='white')\n",
    "\n",
    "# Add hover tooltips\n",
    "hover = HoverTool()\n",
    "hover.tooltips = [(\"Category\", \"@Category\"), (\"Value\", \"@Value\")]\n",
    "p.add_tools(hover)\n",
    "\n",
    "# Label the axes and set the title\n",
    "p.xaxis.axis_label = 'Category'\n",
    "p.yaxis.axis_label = 'Value'\n",
    "p.xaxis.major_label_orientation = \"vertical\"\n",
    "p.title.text_font_size = '16pt'\n",
    "\n",
    "# Customize the plot appearance\n",
    "p.grid.grid_line_color = None\n",
    "p.axis.minor_tick_line_color = None\n",
    "p.outline_line_color = None\n",
    "p.legend.location = 'top_left'\n",
    "p.legend.orientation = 'horizontal'\n",
    "\n",
    "# Show the plot\n",
    "show(p)\n"
   ]
  },
  {
   "cell_type": "code",
   "execution_count": null,
   "id": "e71b13b4-a492-4ed5-a147-187da6c04a2f",
   "metadata": {},
   "outputs": [],
   "source": []
  },
  {
   "cell_type": "code",
   "execution_count": null,
   "id": "678dd529-a2cd-4e8b-96b7-39b30cb29088",
   "metadata": {},
   "outputs": [],
   "source": [
    "20.  Using Plotly, create a basic line plot of a randomly generated dataset, label the axes, and set the title as\n",
    "'Simple Line Plot'8"
   ]
  },
  {
   "cell_type": "code",
   "execution_count": null,
   "id": "038b6a9e-6d94-476b-8a50-df3c5ef51f45",
   "metadata": {},
   "outputs": [],
   "source": [
    "import plotly.graph_objects as go\n",
    "import numpy as np\n",
    "\n",
    "# Generate random data\n",
    "np.random.seed(0)  # For reproducibility\n",
    "x = np.arange(100)  # Array of 100 integers from 0 to 99\n",
    "y = np.random.randn(100)  # Array of 100 random values from a normal distribution\n",
    "\n",
    "# Create the line plot\n",
    "fig = go.Figure()\n",
    "\n",
    "# Add a trace for the line plot\n",
    "fig.add_trace(go.Scatter(x=x, y=y, mode='lines', name='Random Data'))\n",
    "\n",
    "# Update layout with labels and title\n",
    "fig.update_layout(\n",
    "    title='Simple Line Plot',\n",
    "    xaxis_title='X-axis',\n",
    "    yaxis_title='Y-axis'\n",
    ")\n",
    "\n",
    "# Show the plot\n",
    "fig.show()\n"
   ]
  },
  {
   "cell_type": "code",
   "execution_count": null,
   "id": "973bf117-63ea-4188-8e8d-dc4a3e973825",
   "metadata": {},
   "outputs": [],
   "source": []
  },
  {
   "cell_type": "code",
   "execution_count": null,
   "id": "63b46c48-e965-4ad3-ab4d-1dbcf6a0f11e",
   "metadata": {},
   "outputs": [],
   "source": [
    "21. Using Plotly, create an interactive pie chart of randomly generated data, add labels and percentages, set\n",
    "the title as 'Interactive Pie Chart'."
   ]
  },
  {
   "cell_type": "code",
   "execution_count": null,
   "id": "ff111918-b67d-49d9-9848-c1e9c21f4a86",
   "metadata": {},
   "outputs": [],
   "source": [
    "import plotly.graph_objects as go\n",
    "import numpy as np\n",
    "\n",
    "# Generate random data\n",
    "np.random.seed(0)  # For reproducibility\n",
    "categories = [f'Category {i+1}' for i in range(10)]\n",
    "values = np.random.randint(10, 100, size=len(categories))\n",
    "\n",
    "# Create the pie chart\n",
    "fig = go.Figure(data=[go.Pie(\n",
    "    labels=categories,\n",
    "    values=values,\n",
    "    textinfo='label+percent',  # Show label and percentage\n",
    "    hole=0.3  # Add a hole to create a donut chart; set to 0 for a standard pie chart\n",
    ")])\n",
    "\n",
    "# Update layout with title\n",
    "fig.update_layout(\n",
    "    title='Interactive Pie Chart'\n",
    ")\n",
    "\n",
    "# Show the plot\n",
    "fig.show()\n"
   ]
  },
  {
   "cell_type": "code",
   "execution_count": null,
   "id": "5a8d2bec-9dce-432f-9e0d-e2024c2d4f45",
   "metadata": {},
   "outputs": [],
   "source": []
  },
  {
   "cell_type": "code",
   "execution_count": null,
   "id": "bc445232-72f1-4347-a4a2-a5f099201f47",
   "metadata": {},
   "outputs": [],
   "source": []
  },
  {
   "cell_type": "code",
   "execution_count": null,
   "id": "b71689da-0e62-4d2f-9b28-d860a19a5d14",
   "metadata": {},
   "outputs": [],
   "source": []
  },
  {
   "cell_type": "code",
   "execution_count": null,
   "id": "ffb93c3e-b33d-4877-a066-7f85b8ff0962",
   "metadata": {},
   "outputs": [],
   "source": []
  },
  {
   "cell_type": "code",
   "execution_count": null,
   "id": "ebb2ccf2-b600-47ef-91ef-f281d0ce96f5",
   "metadata": {},
   "outputs": [],
   "source": []
  },
  {
   "cell_type": "code",
   "execution_count": null,
   "id": "a2460322-90ca-49fe-8f80-54c5e1bc1782",
   "metadata": {},
   "outputs": [],
   "source": []
  },
  {
   "cell_type": "code",
   "execution_count": null,
   "id": "c574a599-ab63-4218-849f-2fad5a9646f2",
   "metadata": {},
   "outputs": [],
   "source": []
  }
 ],
 "metadata": {
  "kernelspec": {
   "display_name": "Python 3 (ipykernel)",
   "language": "python",
   "name": "python3"
  },
  "language_info": {
   "codemirror_mode": {
    "name": "ipython",
    "version": 3
   },
   "file_extension": ".py",
   "mimetype": "text/x-python",
   "name": "python",
   "nbconvert_exporter": "python",
   "pygments_lexer": "ipython3",
   "version": "3.10.8"
  }
 },
 "nbformat": 4,
 "nbformat_minor": 5
}
